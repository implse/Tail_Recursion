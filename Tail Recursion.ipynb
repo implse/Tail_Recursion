{
 "cells": [
  {
   "cell_type": "markdown",
   "metadata": {},
   "source": [
    "# Tail Recursion"
   ]
  },
  {
   "cell_type": "markdown",
   "metadata": {},
   "source": [
    "A recursive function is said to be __tail recursive__ if the recursive call is the last thing done by the function.There is no need to keep record of the previous state.\n",
    "\n"
   ]
  },
  {
   "cell_type": "markdown",
   "metadata": {},
   "source": [
    "The tail recursion is better than non-tail recursion, as there is no task left after the recursive call."
   ]
  },
  {
   "cell_type": "markdown",
   "metadata": {},
   "source": [
    "## What are recursive calls?"
   ]
  },
  {
   "cell_type": "markdown",
   "metadata": {},
   "source": [
    "A function call is recursive when it is done inside the scope of the function being called.\n",
    "\n",
    "Any problem you can solve with loop can be solved by recusively calling a function until a certain condition is met.\n",
    "\n",
    "In many programming languages, calling a function uses stack memory, so a function that is recursive can build a large stack of calls to itself which wastes memory.\n"
   ]
  },
  {
   "cell_type": "markdown",
   "metadata": {},
   "source": [
    "## Call Stacks"
   ]
  },
  {
   "cell_type": "markdown",
   "metadata": {},
   "source": [
    "While a program runs, there is a call stack of function calls that have started but not yet returned.\n",
    "\n",
    "- Calling a function `f` pushes an instance of `f` on the stack.\n",
    "- When a call to `f` finishes, it is popped from the stack.\n",
    "\n",
    "These stack frames store information like the value of local variables and what is left to do in the function.\n",
    "\n",
    "Due to recursion, multiple stack frames may be calls to the same function."
   ]
  },
  {
   "cell_type": "markdown",
   "metadata": {},
   "source": [
    "## Examples"
   ]
  },
  {
   "cell_type": "code",
   "execution_count": 7,
   "metadata": {},
   "outputs": [],
   "source": [
    "# Recursive\n",
    "def factorial(n):\n",
    "    if n == 1:\n",
    "        return 1\n",
    "    return n * factorial(n - 1)"
   ]
  },
  {
   "cell_type": "markdown",
   "metadata": {},
   "source": [
    "factorial(6)\n",
    "\n",
    "6 * factorial(5)\n",
    "6 * (5 * factorial(4))\n",
    "6 * (5 * (4 * factorial(3)))\n",
    "6 * (5 * (4 * (3 * factorial(2))))\n",
    "6 * (5 * (4 * (3 * (2 * factorial(1))))\n",
    "6 * (5 * (4 * (3 * (2 * 1)))\n",
    "6 * (5 * (4 * (3 * 2)))\n",
    "6 * (5 * (4 * 6))\n",
    "6 * (5 * 24)\n",
    "6 * 120\n",
    "720"
   ]
  },
  {
   "cell_type": "code",
   "execution_count": 9,
   "metadata": {},
   "outputs": [
    {
     "name": "stdout",
     "output_type": "stream",
     "text": [
      "720\n"
     ]
    }
   ],
   "source": [
    "print(factorial(6))"
   ]
  },
  {
   "cell_type": "code",
   "execution_count": null,
   "metadata": {},
   "outputs": [],
   "source": []
  }
 ],
 "metadata": {
  "kernelspec": {
   "display_name": "Python 3",
   "language": "python",
   "name": "python3"
  },
  "language_info": {
   "codemirror_mode": {
    "name": "ipython",
    "version": 3
   },
   "file_extension": ".py",
   "mimetype": "text/x-python",
   "name": "python",
   "nbconvert_exporter": "python",
   "pygments_lexer": "ipython3",
   "version": "3.7.3"
  }
 },
 "nbformat": 4,
 "nbformat_minor": 2
}
