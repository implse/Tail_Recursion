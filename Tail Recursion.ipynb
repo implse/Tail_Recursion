{
 "cells": [
  {
   "cell_type": "markdown",
   "metadata": {},
   "source": [
    "# Tail Recursion"
   ]
  },
  {
   "cell_type": "markdown",
   "metadata": {},
   "source": [
    "A recursive function is said to be __tail recursive__ if the recursive call is the last thing done by the function.There is no need to keep record of the previous state.\n",
    "\n"
   ]
  },
  {
   "cell_type": "markdown",
   "metadata": {},
   "source": [
    "The tail recursion is better than non-tail recursion, as there is no task left after the recursive call.\n",
    "\n",
    "Some languages implement `tail-call optimization` where the recursive calls don't build a stack in memory, which reduce the space to `O(1)`. This removes one of the downsides of recursion of potentially causing a stack overflow."
   ]
  },
  {
   "cell_type": "markdown",
   "metadata": {},
   "source": [
    "## What Are Recursive Calls?"
   ]
  },
  {
   "cell_type": "markdown",
   "metadata": {},
   "source": [
    "A function call is recursive when it is done inside the scope of the function being called.\n",
    "\n",
    "With recursion, when a fucntion is called in a nested manner, they must wait until the stopping condition is reach.\n",
    "\n",
    "Any problem you can solve with loop can be solved by recusively calling a function until a certain condition is met.\n",
    "\n",
    "In many programming languages, calling a function uses `stack memory`, so a function that is recursive can build a large stack of calls to itself which wastes memory.\n"
   ]
  },
  {
   "cell_type": "markdown",
   "metadata": {},
   "source": [
    "## Call Stacks"
   ]
  },
  {
   "cell_type": "markdown",
   "metadata": {},
   "source": [
    "While a program runs, there is a call stack of function calls that have started but not yet returned.\n",
    "\n",
    "- Calling a function `f` pushes an instance of `f` on the stack.\n",
    "- When a call to `f` finishes, it is popped from the stack.\n",
    "\n",
    "These stack frames store information like the value of local variables and what is left to do in the function.\n",
    "\n",
    "Due to recursion, multiple stack frames may be calls to the same function.\n",
    "\n",
    "Recursive solution require `O(n)` space, where `n` is the size of the call stack.\n",
    "\n",
    "If the recursion is to deep the function will eventually run out of stack space wich is called a `stack overflow`.\n",
    "\n",
    "Some compilers implement `tail call optimization`, allowing unlimited recursion to occur without stack overflow.\n",
    "\n",
    "The python interpreter uses a call stack to run a python program. When a function is called, a new frame is pushed onto the call stack for its local execution, and every time a function call returns, its frame is popped of the call stack."
   ]
  },
  {
   "cell_type": "markdown",
   "metadata": {},
   "source": [
    "## Recursion And Cases"
   ]
  },
  {
   "cell_type": "markdown",
   "metadata": {},
   "source": [
    "Every recursive algorithm involves at least 2 case:\n",
    "    \n",
    " - `base case` : a simple occurence of the problem that can be answered directly.\n",
    " \n",
    " - `recursive case` : a more complex occurence of the problem described in terms of smaller occurences of the same problem."
   ]
  },
  {
   "cell_type": "markdown",
   "metadata": {},
   "source": [
    "## Head And Tail Recursion"
   ]
  },
  {
   "cell_type": "markdown",
   "metadata": {},
   "source": [
    "A recursive function typically perform some task and call itself. If the call is made before the function perform its own task, then it is called `Head Recursion`. If the recursive call is made at the end, then it is `Tail Recursion`\n",
    "\n",
    "`Head Recursion`: recursive calls made before performing task.\n",
    "\n",
    "`Tail Recursion`: recursive calls made after performing task."
   ]
  },
  {
   "cell_type": "markdown",
   "metadata": {},
   "source": [
    "## Head Recursive Factorial"
   ]
  },
  {
   "cell_type": "code",
   "execution_count": 1,
   "metadata": {
    "collapsed": true
   },
   "outputs": [],
   "source": [
    "# Head Recursive\n",
    "def factorial(n):\n",
    "    # base case\n",
    "    if n <= 1:\n",
    "        return 1\n",
    "    # recursive case\n",
    "    return n * factorial(n - 1)"
   ]
  },
  {
   "cell_type": "markdown",
   "metadata": {},
   "source": [
    "Each previous call waits for the next call to finish."
   ]
  },
  {
   "cell_type": "code",
   "execution_count": 2,
   "metadata": {
    "collapsed": false
   },
   "outputs": [
    {
     "data": {
      "text/plain": [
       "'\\nfactorial(6)\\n\\n6 * factorial(5)\\n6 * (5 * factorial(4))\\n6 * (5 * (4 * factorial(3)))\\n6 * (5 * (4 * (3 * factorial(2))))\\n6 * (5 * (4 * (3 * (2 * factorial(1))))\\n6 * (5 * (4 * (3 * (2 * 1)))\\n6 * (5 * (4 * (3 * 2)))\\n6 * (5 * (4 * 6))\\n6 * (5 * 24)\\n6 * 120\\n720\\n\\n'"
      ]
     },
     "execution_count": 2,
     "metadata": {},
     "output_type": "execute_result"
    }
   ],
   "source": [
    "# call stack\n",
    "\n",
    "\"\"\"\n",
    "factorial(6)\n",
    "\n",
    "6 * factorial(5)\n",
    "6 * (5 * factorial(4))\n",
    "6 * (5 * (4 * factorial(3)))\n",
    "6 * (5 * (4 * (3 * factorial(2))))\n",
    "6 * (5 * (4 * (3 * (2 * factorial(1))))\n",
    "6 * (5 * (4 * (3 * (2 * 1)))\n",
    "6 * (5 * (4 * (3 * 2)))\n",
    "6 * (5 * (4 * 6))\n",
    "6 * (5 * 24)\n",
    "6 * 120\n",
    "720\n",
    "\n",
    "\"\"\""
   ]
  },
  {
   "cell_type": "code",
   "execution_count": 3,
   "metadata": {
    "collapsed": false
   },
   "outputs": [
    {
     "name": "stdout",
     "output_type": "stream",
     "text": [
      "720\n"
     ]
    }
   ],
   "source": [
    "print(factorial(6))"
   ]
  },
  {
   "cell_type": "markdown",
   "metadata": {},
   "source": [
    "![classic](images/classic_recursive.png)"
   ]
  },
  {
   "cell_type": "markdown",
   "metadata": {},
   "source": [
    "## Tail Recursive Factorial"
   ]
  },
  {
   "cell_type": "code",
   "execution_count": 4,
   "metadata": {
    "collapsed": true
   },
   "outputs": [],
   "source": [
    "# Tail Recursive\n",
    "def factorial_tail_recursive(n, accumulator = 1):\n",
    "    # base case\n",
    "    if n == 0:\n",
    "        return accumulator\n",
    "    return factorial_tail_recursive(n - 1, accumulator * n)\n"
   ]
  },
  {
   "cell_type": "code",
   "execution_count": 5,
   "metadata": {
    "collapsed": false
   },
   "outputs": [
    {
     "name": "stdout",
     "output_type": "stream",
     "text": [
      "720\n"
     ]
    }
   ],
   "source": [
    "print(factorial_tail_recursive(6))"
   ]
  },
  {
   "cell_type": "markdown",
   "metadata": {},
   "source": [
    "![tail](images/tail_recursive.png)"
   ]
  },
  {
   "cell_type": "markdown",
   "metadata": {},
   "source": [
    "## Timeit"
   ]
  },
  {
   "cell_type": "code",
   "execution_count": 6,
   "metadata": {
    "collapsed": false
   },
   "outputs": [
    {
     "name": "stdout",
     "output_type": "stream",
     "text": [
      "29.3 µs ± 1.66 µs per loop (mean ± std. dev. of 7 runs, 10000 loops each)\n"
     ]
    }
   ],
   "source": [
    "%timeit factorial(100)"
   ]
  },
  {
   "cell_type": "code",
   "execution_count": 7,
   "metadata": {
    "collapsed": false
   },
   "outputs": [
    {
     "name": "stdout",
     "output_type": "stream",
     "text": [
      "34.7 µs ± 3.44 µs per loop (mean ± std. dev. of 7 runs, 10000 loops each)\n"
     ]
    }
   ],
   "source": [
    "%timeit factorial_tail_recursive(100)"
   ]
  },
  {
   "cell_type": "markdown",
   "metadata": {},
   "source": [
    "## Count Recursive Calls"
   ]
  },
  {
   "cell_type": "code",
   "execution_count": 8,
   "metadata": {
    "collapsed": true
   },
   "outputs": [],
   "source": [
    "# Recursive\n",
    "\n",
    "counter = 0\n",
    "\n",
    "def factorial(n):\n",
    "    global counter\n",
    "    counter += 1\n",
    "    if n == 1:\n",
    "        return 1\n",
    "    return n * factorial(n - 1)\n"
   ]
  },
  {
   "cell_type": "code",
   "execution_count": 9,
   "metadata": {
    "collapsed": false
   },
   "outputs": [
    {
     "name": "stdout",
     "output_type": "stream",
     "text": [
      "3628800\n",
      "10\n"
     ]
    }
   ],
   "source": [
    "print(factorial(10))\n",
    "print(counter)"
   ]
  },
  {
   "cell_type": "code",
   "execution_count": 10,
   "metadata": {
    "collapsed": true
   },
   "outputs": [],
   "source": [
    "# Tail Recursive\n",
    "\n",
    "counter = 0\n",
    "\n",
    "def factorial_tail_recursive(n, accumulator = 1):\n",
    "    global counter\n",
    "    counter += 1\n",
    "    if n == 0:\n",
    "        return accumulator\n",
    "    return factorial_tail_recursive(n - 1, accumulator * n)\n"
   ]
  },
  {
   "cell_type": "code",
   "execution_count": 11,
   "metadata": {
    "collapsed": false
   },
   "outputs": [
    {
     "name": "stdout",
     "output_type": "stream",
     "text": [
      "3628800\n",
      "11\n"
     ]
    }
   ],
   "source": [
    "print(factorial_tail_recursive(10))\n",
    "print(counter)"
   ]
  }
 ],
 "metadata": {
  "kernelspec": {
   "display_name": "Python 3",
   "language": "python",
   "name": "python3"
  },
  "language_info": {
   "codemirror_mode": {
    "name": "ipython",
    "version": 3
   },
   "file_extension": ".py",
   "mimetype": "text/x-python",
   "name": "python",
   "nbconvert_exporter": "python",
   "pygments_lexer": "ipython3",
   "version": "3.6.0"
  }
 },
 "nbformat": 4,
 "nbformat_minor": 4
}
